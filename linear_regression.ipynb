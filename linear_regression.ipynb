{
  "nbformat": 4,
  "nbformat_minor": 0,
  "metadata": {
    "colab": {
      "provenance": [],
      "authorship_tag": "ABX9TyOLXzcjJtySMiD8bdmktKk1",
      "include_colab_link": true
    },
    "kernelspec": {
      "name": "python3",
      "display_name": "Python 3"
    },
    "language_info": {
      "name": "python"
    }
  },
  "cells": [
    {
      "cell_type": "markdown",
      "metadata": {
        "id": "view-in-github",
        "colab_type": "text"
      },
      "source": [
        "<a href=\"https://colab.research.google.com/github/mleleszi/machine-learning-specialization/blob/main/linear_regression.ipynb\" target=\"_parent\"><img src=\"https://colab.research.google.com/assets/colab-badge.svg\" alt=\"Open In Colab\"/></a>"
      ]
    },
    {
      "cell_type": "markdown",
      "source": [
        "# Implement gradient descent\n",
        "Automate the process of optimizing w and b using grading descent"
      ],
      "metadata": {
        "id": "nQpAsSfT0ftN"
      }
    },
    {
      "cell_type": "markdown",
      "source": [
        "<a name=\"toc_40291_2\"></a>\n",
        "# Problem Statement\n",
        "\n",
        "Let's use the same two data points as before - a house with 1000 square feet sold for $300,000 and a house with 2000 square feet sold for $500,000.\n",
        "\n",
        "| Size (1000 sqft)     | Price (1000s of dollars) |\n",
        "| ----------------| ------------------------ |\n",
        "| 1               | 300                      |\n",
        "| 2               | 500                      |\n"
      ],
      "metadata": {
        "id": "m3PEJgn-1RhB"
      }
    },
    {
      "cell_type": "markdown",
      "source": [
        "<a name=\"toc_40291_2.1\"></a>\n",
        "## Gradient descent summary\n",
        "So far in this course, you have developed a linear model that predicts $f_{w,b}(x^{(i)})$:\n",
        "$$f_{w,b}(x^{(i)}) = wx^{(i)} + b \\tag{1}$$\n",
        "In linear regression, you utilize input training data to fit the parameters $w$,$b$ by minimizing a measure of the error between our predictions $f_{w,b}(x^{(i)})$ and the actual data $y^{(i)}$. The measure is called the $cost$, $J(w,b)$. In training you measure the cost over all of our training samples $x^{(i)},y^{(i)}$\n",
        "$$J(w,b) = \\frac{1}{2m} \\sum\\limits_{i = 0}^{m-1} (f_{w,b}(x^{(i)}) - y^{(i)})^2\\tag{2}$$ "
      ],
      "metadata": {
        "id": "bOMZdVRd1j4W"
      }
    },
    {
      "cell_type": "markdown",
      "source": [
        "\n",
        "In lecture, *gradient descent* was described as:\n",
        "\n",
        "$$\\begin{align*} \\text{repeat}&\\text{ until convergence:} \\; \\lbrace \\newline\n",
        "\\;  w &= w -  \\alpha \\frac{\\partial J(w,b)}{\\partial w} \\tag{3}  \\; \\newline \n",
        " b &= b -  \\alpha \\frac{\\partial J(w,b)}{\\partial b}  \\newline \\rbrace\n",
        "\\end{align*}$$\n",
        "where, parameters $w$, $b$ are updated simultaneously.  \n",
        "The gradient is defined as:\n",
        "$$\n",
        "\\begin{align}\n",
        "\\frac{\\partial J(w,b)}{\\partial w}  &= \\frac{1}{m} \\sum\\limits_{i = 0}^{m-1} (f_{w,b}(x^{(i)}) - y^{(i)})x^{(i)} \\tag{4}\\\\\n",
        "  \\frac{\\partial J(w,b)}{\\partial b}  &= \\frac{1}{m} \\sum\\limits_{i = 0}^{m-1} (f_{w,b}(x^{(i)}) - y^{(i)}) \\tag{5}\\\\\n",
        "\\end{align}\n",
        "$$\n",
        "\n",
        "Here *simultaniously* means that you calculate the partial derivatives for all the parameters before updating any of the parameters."
      ],
      "metadata": {
        "id": "e9pXAtzy1tKH"
      }
    },
    {
      "cell_type": "code",
      "source": [
        "import numpy as np"
      ],
      "metadata": {
        "id": "QEcueGb_07aC"
      },
      "execution_count": 1,
      "outputs": []
    },
    {
      "cell_type": "code",
      "source": [
        "x_train = np.array([1.0, 2.0])\n",
        "y_train = np.array([300.0, 500.0])"
      ],
      "metadata": {
        "id": "yvimuFVW05ZK"
      },
      "execution_count": 2,
      "outputs": []
    },
    {
      "cell_type": "code",
      "source": [
        "def compute_cost(x, y, w, b):\n",
        "  \"\"\"\n",
        "  Computes the cost \n",
        "  \"\"\"\n",
        "  m = x_train.shape[0]\n",
        "  cost = 0\n",
        "\n",
        "  for i in range(m):\n",
        "    f_wb = w * x[i] + b\n",
        "    cost = cost + (f_wb - y[i]) ** 2\n",
        "\n",
        "  total_cost = 1 / (2 * m) * cost\n",
        "\n",
        "  return total_cost"
      ],
      "metadata": {
        "id": "d8Ru-eTK0l5k"
      },
      "execution_count": 5,
      "outputs": []
    },
    {
      "cell_type": "code",
      "source": [
        "def compute_gradient(x, y, w, b): \n",
        "    \"\"\"\n",
        "    Computes the gradient for linear regression \n",
        "    Args:\n",
        "      x (ndarray (m,)): Data, m examples \n",
        "      y (ndarray (m,)): target values\n",
        "      w,b (scalar)    : model parameters  \n",
        "    Returns\n",
        "      dj_dw (scalar): The gradient of the cost w.r.t. the parameters w\n",
        "      dj_db (scalar): The gradient of the cost w.r.t. the parameter b     \n",
        "     \"\"\"\n",
        "    \n",
        "    # Number of training examples\n",
        "    m = x.shape[0]    \n",
        "    dj_dw = 0\n",
        "    dj_db = 0\n",
        "    \n",
        "    for i in range(m):  \n",
        "        f_wb = w * x[i] + b \n",
        "        dj_dw_i = (f_wb - y[i]) * x[i] \n",
        "        dj_db_i = f_wb - y[i] \n",
        "        dj_db += dj_db_i\n",
        "        dj_dw += dj_dw_i \n",
        "    dj_dw = dj_dw / m \n",
        "    dj_db = dj_db / m \n",
        "        \n",
        "    return dj_dw, dj_db"
      ],
      "metadata": {
        "id": "DaXxwCAF24lj"
      },
      "execution_count": 6,
      "outputs": []
    },
    {
      "cell_type": "code",
      "source": [
        "def gradient_descent(x, y, w_in, b_in, alpha, num_iters, cost_function, gradient_function):\n",
        "  \"\"\"\n",
        "  Performs gradient descent to fit w,b. Updates w,b by taking \n",
        "  num_iters gradient steps with learning rate alpha\n",
        "\n",
        "  Args:\n",
        "    x (ndarray (m,))  : Data, m examples \n",
        "    y (ndarray (m,))  : target values\n",
        "    w_in,b_in (scalar): initial values of model parameters  \n",
        "    alpha (float):     Learning rate\n",
        "    num_iters (int):   number of iterations to run gradient descent\n",
        "    cost_function:     function to call to produce cost\n",
        "    gradient_function: function to call to produce gradient\n",
        "    \n",
        "  Returns:\n",
        "    w (scalar): Updated value of parameter after running gradient descent\n",
        "    b (scalar): Updated value of parameter after running gradient descent\n",
        "    J_history (List): History of cost values\n",
        "    p_history (list): History of parameters [w,b] \n",
        "    \"\"\"\n",
        "\n",
        "  b = b_in\n",
        "  w = w_in\n",
        "\n",
        "  for i in range(num_iters):\n",
        "    # Calculate the gradient and update the parameters using gradient_function\n",
        "    dj_dw, dj_db = gradient_function(x, y, w, b)\n",
        "\n",
        "    b = b - alpha * dj_db                            \n",
        "    w = w - alpha * dj_dw \n",
        "\n",
        "\n",
        "  return w, b"
      ],
      "metadata": {
        "id": "bzWDgGUz3m53"
      },
      "execution_count": 8,
      "outputs": []
    },
    {
      "cell_type": "code",
      "source": [
        "w_init = 0\n",
        "b_init = 0\n",
        "iterations = 10000\n",
        "alpha = 1.0e-2\n",
        "\n",
        "w, b = gradient_descent(x_train, y_train, w_init, b_init, alpha, iterations, compute_cost, compute_gradient)"
      ],
      "metadata": {
        "id": "BUXBmdMM4JtS"
      },
      "execution_count": 10,
      "outputs": []
    },
    {
      "cell_type": "code",
      "source": [
        "w"
      ],
      "metadata": {
        "colab": {
          "base_uri": "https://localhost:8080/"
        },
        "id": "Bq7nLbOJ6FBu",
        "outputId": "67aa48e3-2ffe-4fae-962a-1bf31a689599"
      },
      "execution_count": 11,
      "outputs": [
        {
          "output_type": "execute_result",
          "data": {
            "text/plain": [
              "199.99285075131766"
            ]
          },
          "metadata": {},
          "execution_count": 11
        }
      ]
    },
    {
      "cell_type": "code",
      "source": [
        "b"
      ],
      "metadata": {
        "colab": {
          "base_uri": "https://localhost:8080/"
        },
        "id": "_poVFXa_6JZM",
        "outputId": "c85214ee-1a9d-4573-b137-abf8dfa5a057"
      },
      "execution_count": 12,
      "outputs": [
        {
          "output_type": "execute_result",
          "data": {
            "text/plain": [
              "100.011567727362"
            ]
          },
          "metadata": {},
          "execution_count": 12
        }
      ]
    },
    {
      "cell_type": "code",
      "source": [
        "print(f\"1000 sqft house prediction {w*1.0 + b:0.1f} Thousand dollars\")\n",
        "print(f\"1200 sqft house prediction {w*1.2 + b:0.1f} Thousand dollars\")\n"
      ],
      "metadata": {
        "colab": {
          "base_uri": "https://localhost:8080/"
        },
        "id": "g-dO5F6-6J2l",
        "outputId": "29be590e-1624-412c-a274-3e18c765e088"
      },
      "execution_count": 14,
      "outputs": [
        {
          "output_type": "stream",
          "name": "stdout",
          "text": [
            "1000 sqft house prediction 300.0 Thousand dollars\n",
            "1200 sqft house prediction 340.0 Thousand dollars\n"
          ]
        }
      ]
    },
    {
      "cell_type": "code",
      "source": [],
      "metadata": {
        "id": "NSzZxum16iYf"
      },
      "execution_count": null,
      "outputs": []
    }
  ]
}